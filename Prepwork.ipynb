{
  "nbformat": 4,
  "nbformat_minor": 0,
  "metadata": {
    "colab": {
      "provenance": [],
      "authorship_tag": "ABX9TyOuyN0ivvBPMCmK9Y0oJhpT",
      "include_colab_link": true
    },
    "kernelspec": {
      "name": "python3",
      "display_name": "Python 3"
    },
    "language_info": {
      "name": "python"
    }
  },
  "cells": [
    {
      "cell_type": "markdown",
      "metadata": {
        "id": "view-in-github",
        "colab_type": "text"
      },
      "source": [
        "<a href=\"https://colab.research.google.com/github/mdh959/Prepworkmdh/blob/main/Prepwork.ipynb\" target=\"_parent\"><img src=\"https://colab.research.google.com/assets/colab-badge.svg\" alt=\"Open In Colab\"/></a>"
      ]
    },
    {
      "cell_type": "code",
      "execution_count": 19,
      "metadata": {
        "id": "-Z9rwZhGB6kW"
      },
      "outputs": [],
      "source": [
        "#Import libraries\n",
        "import requests\n",
        "import numpy as np\n",
        "import ast\n",
        "import tensorflow as tf\n",
        "from tensorflow.keras.callbacks import EarlyStopping\n",
        "from sklearn.model_selection import train_test_split\n",
        "from keras import backend as K\n",
        "import urllib.request"
      ]
    },
    {
      "cell_type": "code",
      "source": [
        "#Import weights and CY hodge\n",
        "with open('/content/WP4s.txt','r') as file:\n",
        "    weights = eval(file.read())\n",
        "with open('/content/WP4_Hodges (1).txt','r') as file:\n",
        "    CYhodge = eval(file.read())\n",
        "CY = [[weights[i],CYhodge[i]] for i in range(7555)]\n",
        "# Convert to NumPy arrays\n",
        "X = np.array(weights)\n",
        "y = np.array(CYhodge)\n"
      ],
      "metadata": {
        "colab": {
          "base_uri": "https://localhost:8080/"
        },
        "id": "qi5k44QnCAfw",
        "outputId": "3ff92506-a979-4b2e-b8b4-601a909ba59a"
      },
      "execution_count": 12,
      "outputs": [
        {
          "output_type": "stream",
          "name": "stdout",
          "text": [
            "X shape: (7555, 5)\n",
            "y shape: (7555, 2)\n"
          ]
        }
      ]
    },
    {
      "cell_type": "code",
      "source": [
        "\n",
        "def get_network():\n",
        "    inp = tf.keras.layers.Input(shape=(5,))\n",
        "    prep = tf.keras.layers.Reshape((5,))(inp)\n",
        "    h1 = tf.keras.layers.Dense(1000, activation='relu')(prep)\n",
        "    h2 = tf.keras.layers.Dense(100, activation='tanh')(h1)\n",
        "    out = tf.keras.layers.Dense(2, activation='linear')(h2)\n",
        "\n",
        "    model = tf.keras.models.Model(inputs=inp, outputs=out)\n",
        "    model.compile(\n",
        "        loss='mean_squared_error',\n",
        "        optimizer=tf.keras.optimizers.Adam(0.001),\n",
        "        metrics=['accuracy'],\n",
        "    )\n",
        "    return model\n",
        "\n",
        "def train_network(X_train, y_train, X_test, y_test):\n",
        "    model = get_network()\n",
        "    early_stopping = EarlyStopping(monitor='val_loss', patience=3)\n",
        "    history = model.fit(\n",
        "        X_train, y_train,\n",
        "        epochs=500,\n",
        "        validation_data=(X_test, y_test),\n",
        "        callbacks=[early_stopping]\n",
        "    )\n",
        "    return history\n",
        ""
      ],
      "metadata": {
        "id": "PHlV0_0RATXJ"
      },
      "execution_count": 31,
      "outputs": []
    },
    {
      "cell_type": "code",
      "source": [
        "if __name__ == '__main__':\n",
        "    model = get_network()\n",
        "    print(model.summary())\n",
        "    X_train, X_test, y_train, y_test = train_test_split(X, y, test_size=0.5)\n",
        "    print(f'Test Accuracy of Neural Network after one run: {train_network(X_train, y_train, X_test, y_test)}')"
      ],
      "metadata": {
        "colab": {
          "base_uri": "https://localhost:8080/"
        },
        "id": "PKShsx7nAUqM",
        "outputId": "0063c1e8-f897-4211-dc79-2c6b04750eaa"
      },
      "execution_count": 32,
      "outputs": [
        {
          "output_type": "stream",
          "name": "stdout",
          "text": [
            "Model: \"model_10\"\n",
            "_________________________________________________________________\n",
            " Layer (type)                Output Shape              Param #   \n",
            "=================================================================\n",
            " input_11 (InputLayer)       [(None, 5)]               0         \n",
            "                                                                 \n",
            " reshape_10 (Reshape)        (None, 5)                 0         \n",
            "                                                                 \n",
            " dense_30 (Dense)            (None, 1000)              6000      \n",
            "                                                                 \n",
            " dense_31 (Dense)            (None, 100)               100100    \n",
            "                                                                 \n",
            " dense_32 (Dense)            (None, 2)                 202       \n",
            "                                                                 \n",
            "=================================================================\n",
            "Total params: 106302 (415.24 KB)\n",
            "Trainable params: 106302 (415.24 KB)\n",
            "Non-trainable params: 0 (0.00 Byte)\n",
            "_________________________________________________________________\n",
            "None\n",
            "Epoch 1/500\n",
            "119/119 [==============================] - 2s 9ms/step - loss: 6487.2271 - accuracy: 0.4234 - val_loss: 6187.7920 - val_accuracy: 0.8250\n",
            "Epoch 2/500\n",
            "119/119 [==============================] - 1s 8ms/step - loss: 5431.5396 - accuracy: 0.7254 - val_loss: 5317.3330 - val_accuracy: 0.6683\n",
            "Epoch 3/500\n",
            "119/119 [==============================] - 1s 8ms/step - loss: 4701.9688 - accuracy: 0.6709 - val_loss: 4710.1372 - val_accuracy: 0.6511\n",
            "Epoch 4/500\n",
            "119/119 [==============================] - 1s 8ms/step - loss: 4206.6333 - accuracy: 0.6447 - val_loss: 4299.2754 - val_accuracy: 0.6443\n",
            "Epoch 5/500\n",
            "119/119 [==============================] - 1s 8ms/step - loss: 3861.4836 - accuracy: 0.6399 - val_loss: 3994.9978 - val_accuracy: 0.6435\n",
            "Epoch 6/500\n",
            "119/119 [==============================] - 1s 8ms/step - loss: 3601.2793 - accuracy: 0.6397 - val_loss: 3765.5312 - val_accuracy: 0.6435\n",
            "Epoch 7/500\n",
            "119/119 [==============================] - 1s 7ms/step - loss: 3390.9492 - accuracy: 0.6397 - val_loss: 3560.7056 - val_accuracy: 0.6435\n",
            "Epoch 8/500\n",
            "119/119 [==============================] - 1s 8ms/step - loss: 3202.2329 - accuracy: 0.6958 - val_loss: 3362.4915 - val_accuracy: 0.7390\n",
            "Epoch 9/500\n",
            "119/119 [==============================] - 1s 11ms/step - loss: 3013.1968 - accuracy: 0.7307 - val_loss: 3184.4185 - val_accuracy: 0.7496\n",
            "Epoch 10/500\n",
            "119/119 [==============================] - 2s 15ms/step - loss: 2843.9460 - accuracy: 0.7363 - val_loss: 3024.6592 - val_accuracy: 0.7454\n",
            "Epoch 11/500\n",
            "119/119 [==============================] - 2s 15ms/step - loss: 2669.2769 - accuracy: 0.7641 - val_loss: 2810.1160 - val_accuracy: 0.8007\n",
            "Epoch 12/500\n",
            "119/119 [==============================] - 1s 8ms/step - loss: 2504.8218 - accuracy: 0.8136 - val_loss: 2642.7568 - val_accuracy: 0.8465\n",
            "Epoch 13/500\n",
            "119/119 [==============================] - 1s 8ms/step - loss: 2353.1477 - accuracy: 0.8501 - val_loss: 2474.8115 - val_accuracy: 0.8859\n",
            "Epoch 14/500\n",
            "119/119 [==============================] - 1s 8ms/step - loss: 2202.7961 - accuracy: 0.8761 - val_loss: 2316.5842 - val_accuracy: 0.8774\n",
            "Epoch 15/500\n",
            "119/119 [==============================] - 1s 8ms/step - loss: 2046.7261 - accuracy: 0.8901 - val_loss: 2200.5435 - val_accuracy: 0.8984\n",
            "Epoch 16/500\n",
            "119/119 [==============================] - 1s 8ms/step - loss: 1924.3171 - accuracy: 0.9039 - val_loss: 2095.0750 - val_accuracy: 0.8909\n",
            "Epoch 17/500\n",
            "119/119 [==============================] - 1s 8ms/step - loss: 1795.3164 - accuracy: 0.9095 - val_loss: 1957.9099 - val_accuracy: 0.9037\n",
            "Epoch 18/500\n",
            "119/119 [==============================] - 1s 8ms/step - loss: 1694.0992 - accuracy: 0.9089 - val_loss: 1813.2638 - val_accuracy: 0.8896\n",
            "Epoch 19/500\n",
            "119/119 [==============================] - 1s 8ms/step - loss: 1572.6562 - accuracy: 0.9171 - val_loss: 1780.5656 - val_accuracy: 0.9174\n",
            "Epoch 20/500\n",
            "119/119 [==============================] - 1s 8ms/step - loss: 1503.3325 - accuracy: 0.9132 - val_loss: 1582.5242 - val_accuracy: 0.9209\n",
            "Epoch 21/500\n",
            "119/119 [==============================] - 1s 8ms/step - loss: 1380.6840 - accuracy: 0.9224 - val_loss: 1482.5845 - val_accuracy: 0.9185\n",
            "Epoch 22/500\n",
            "119/119 [==============================] - 2s 14ms/step - loss: 1299.8250 - accuracy: 0.9163 - val_loss: 1581.5314 - val_accuracy: 0.9127\n",
            "Epoch 23/500\n",
            "119/119 [==============================] - 1s 12ms/step - loss: 1257.8052 - accuracy: 0.9121 - val_loss: 1339.2329 - val_accuracy: 0.9087\n",
            "Epoch 24/500\n",
            "119/119 [==============================] - 1s 10ms/step - loss: 1144.0250 - accuracy: 0.9240 - val_loss: 1241.3192 - val_accuracy: 0.9179\n",
            "Epoch 25/500\n",
            "119/119 [==============================] - 1s 8ms/step - loss: 1093.7040 - accuracy: 0.9219 - val_loss: 1285.1267 - val_accuracy: 0.9206\n",
            "Epoch 26/500\n",
            "119/119 [==============================] - 1s 8ms/step - loss: 1019.4282 - accuracy: 0.9235 - val_loss: 1107.4290 - val_accuracy: 0.9262\n",
            "Epoch 27/500\n",
            "119/119 [==============================] - 1s 8ms/step - loss: 945.2184 - accuracy: 0.9261 - val_loss: 1180.0901 - val_accuracy: 0.9158\n",
            "Epoch 28/500\n",
            "119/119 [==============================] - 1s 8ms/step - loss: 924.9451 - accuracy: 0.9256 - val_loss: 1006.0175 - val_accuracy: 0.9185\n",
            "Epoch 29/500\n",
            "119/119 [==============================] - 1s 8ms/step - loss: 908.1209 - accuracy: 0.9224 - val_loss: 962.5109 - val_accuracy: 0.9248\n",
            "Epoch 30/500\n",
            "119/119 [==============================] - 1s 8ms/step - loss: 802.6197 - accuracy: 0.9272 - val_loss: 1044.7556 - val_accuracy: 0.9195\n",
            "Epoch 31/500\n",
            "119/119 [==============================] - 1s 9ms/step - loss: 910.1196 - accuracy: 0.9163 - val_loss: 924.6651 - val_accuracy: 0.9280\n",
            "Epoch 32/500\n",
            "119/119 [==============================] - 1s 11ms/step - loss: 747.9725 - accuracy: 0.9235 - val_loss: 832.4131 - val_accuracy: 0.9243\n",
            "Epoch 33/500\n",
            "119/119 [==============================] - 1s 8ms/step - loss: 698.8607 - accuracy: 0.9272 - val_loss: 798.3162 - val_accuracy: 0.9320\n",
            "Epoch 34/500\n",
            "119/119 [==============================] - 2s 14ms/step - loss: 678.7307 - accuracy: 0.9304 - val_loss: 832.4864 - val_accuracy: 0.9291\n",
            "Epoch 35/500\n",
            "119/119 [==============================] - 2s 16ms/step - loss: 684.2778 - accuracy: 0.9230 - val_loss: 730.1663 - val_accuracy: 0.9336\n",
            "Epoch 36/500\n",
            "119/119 [==============================] - 1s 12ms/step - loss: 596.2439 - accuracy: 0.9312 - val_loss: 736.8294 - val_accuracy: 0.9325\n",
            "Epoch 37/500\n",
            "119/119 [==============================] - 1s 9ms/step - loss: 618.5395 - accuracy: 0.9216 - val_loss: 668.6991 - val_accuracy: 0.9283\n",
            "Epoch 38/500\n",
            "119/119 [==============================] - 1s 9ms/step - loss: 553.8904 - accuracy: 0.9304 - val_loss: 787.8587 - val_accuracy: 0.9240\n",
            "Epoch 39/500\n",
            "119/119 [==============================] - 1s 9ms/step - loss: 562.0522 - accuracy: 0.9256 - val_loss: 615.4271 - val_accuracy: 0.9322\n",
            "Epoch 40/500\n",
            "119/119 [==============================] - 1s 12ms/step - loss: 511.2852 - accuracy: 0.9298 - val_loss: 600.0318 - val_accuracy: 0.9153\n",
            "Epoch 41/500\n",
            "119/119 [==============================] - 2s 13ms/step - loss: 512.0003 - accuracy: 0.9240 - val_loss: 579.0950 - val_accuracy: 0.9246\n",
            "Epoch 42/500\n",
            "119/119 [==============================] - 1s 8ms/step - loss: 468.0511 - accuracy: 0.9298 - val_loss: 537.7035 - val_accuracy: 0.9307\n",
            "Epoch 43/500\n",
            "119/119 [==============================] - 1s 9ms/step - loss: 450.1102 - accuracy: 0.9330 - val_loss: 764.7589 - val_accuracy: 0.9227\n",
            "Epoch 44/500\n",
            "119/119 [==============================] - 1s 12ms/step - loss: 488.3138 - accuracy: 0.9272 - val_loss: 551.7236 - val_accuracy: 0.9328\n",
            "Epoch 45/500\n",
            "119/119 [==============================] - 2s 16ms/step - loss: 434.7744 - accuracy: 0.9322 - val_loss: 517.8826 - val_accuracy: 0.9224\n",
            "Epoch 46/500\n",
            "119/119 [==============================] - 2s 13ms/step - loss: 416.8593 - accuracy: 0.9285 - val_loss: 493.7725 - val_accuracy: 0.9219\n",
            "Epoch 47/500\n",
            "119/119 [==============================] - 1s 9ms/step - loss: 399.5449 - accuracy: 0.9325 - val_loss: 526.0748 - val_accuracy: 0.9193\n",
            "Epoch 48/500\n",
            "119/119 [==============================] - 1s 12ms/step - loss: 396.9938 - accuracy: 0.9251 - val_loss: 510.9443 - val_accuracy: 0.9293\n",
            "Epoch 49/500\n",
            "119/119 [==============================] - 1s 11ms/step - loss: 374.6417 - accuracy: 0.9320 - val_loss: 433.4185 - val_accuracy: 0.9333\n",
            "Epoch 50/500\n",
            "119/119 [==============================] - 1s 9ms/step - loss: 380.1353 - accuracy: 0.9282 - val_loss: 466.7223 - val_accuracy: 0.9314\n",
            "Epoch 51/500\n",
            "119/119 [==============================] - 1s 9ms/step - loss: 399.3687 - accuracy: 0.9301 - val_loss: 486.0648 - val_accuracy: 0.8968\n",
            "Epoch 52/500\n",
            "119/119 [==============================] - 1s 8ms/step - loss: 366.3510 - accuracy: 0.9230 - val_loss: 555.9448 - val_accuracy: 0.8719\n",
            "Test Accuracy of Neural Network after one run: <keras.src.callbacks.History object at 0x79548de9dba0>\n"
          ]
        }
      ]
    }
  ]
}